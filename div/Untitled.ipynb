{
 "cells": [
  {
   "cell_type": "code",
   "execution_count": 6,
   "metadata": {
    "collapsed": false
   },
   "outputs": [],
   "source": [
    "import fnmatch, re\n",
    "\n",
    "\n",
    "\n",
    "fileToSearch = 'ref.bib'\n",
    "\n",
    "textToSearch = \":pdf2/*:PDF\"\n",
    "\n",
    "textToReplace = \"\"\n",
    "\n",
    "# Read in the file\n",
    "with open(fileToSearch, 'r') as file :\n",
    "  filedata = file.read()\n",
    "\n",
    "# Replace the target string\n",
    "filedata = filedata.replace(textToSearch, textToReplace)\n",
    "\n",
    "fnmatch.fnmatch('', textToSearch)\n",
    "\n",
    "\n",
    "# Write the file out again\n",
    "with open('file.bib', 'w') as file:\n",
    "  file.write(filedata)"
   ]
  },
  {
   "cell_type": "code",
   "execution_count": null,
   "metadata": {
    "collapsed": true
   },
   "outputs": [],
   "source": []
  }
 ],
 "metadata": {
  "anaconda-cloud": {},
  "kernelspec": {
   "display_name": "Python [conda root]",
   "language": "python",
   "name": "conda-root-py"
  },
  "language_info": {
   "codemirror_mode": {
    "name": "ipython",
    "version": 2
   },
   "file_extension": ".py",
   "mimetype": "text/x-python",
   "name": "python",
   "nbconvert_exporter": "python",
   "pygments_lexer": "ipython2",
   "version": "2.7.12"
  }
 },
 "nbformat": 4,
 "nbformat_minor": 2
}
